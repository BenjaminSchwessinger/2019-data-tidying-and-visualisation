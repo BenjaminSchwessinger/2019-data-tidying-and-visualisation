{
 "cells": [
  {
   "cell_type": "markdown",
   "metadata": {},
   "source": [
    "# Matplotlib and tidy data"
   ]
  },
  {
   "cell_type": "markdown",
   "metadata": {},
   "source": [
    "### Handy hints "
   ]
  },
  {
   "cell_type": "markdown",
   "metadata": {},
   "source": [
    "* In general, we are using plotting libraries that return objects encapsulating the plot. You can check the type of these returned objects with `type()`. Jupyter's tools for exploring objects and methods will also be useful: the `?` and `??` operators, and tab autocompletion."
   ]
  },
  {
   "cell_type": "markdown",
   "metadata": {},
   "source": [
    "## Setup "
   ]
  },
  {
   "cell_type": "code",
   "execution_count": 1,
   "metadata": {
    "ExecuteTime": {
     "end_time": "2018-01-13T21:32:29.211637Z",
     "start_time": "2018-01-13T21:32:28.117480Z"
    },
    "collapsed": true
   },
   "outputs": [],
   "source": [
    "import pandas as pd\n",
    "import numpy as np"
   ]
  },
  {
   "cell_type": "code",
   "execution_count": 2,
   "metadata": {
    "ExecuteTime": {
     "end_time": "2018-01-13T21:32:29.582380Z",
     "start_time": "2018-01-13T21:32:29.224021Z"
    },
    "collapsed": true
   },
   "outputs": [],
   "source": [
    "# This causes Jupyter to display any matplotlib plots directly in the notebook\n",
    "# It also works for seaborn, since seaborn uses matplotlib to render plots\n",
    "# There is an alterative `%matplotlib notebook` magic for interactivity, which we won't use today\n",
    "# - we will use other libraries for interactive plots\n",
    "%matplotlib inline"
   ]
  },
  {
   "cell_type": "code",
   "execution_count": 3,
   "metadata": {
    "ExecuteTime": {
     "end_time": "2018-01-13T21:32:29.607793Z",
     "start_time": "2018-01-13T21:32:29.597958Z"
    },
    "collapsed": true
   },
   "outputs": [],
   "source": [
    "# pyplot (as plt) is the module we'll primarily use to instantiate matplotlib plot objects\n",
    "# We wouldn't usually need to import matplotlib itself, but we'll use it to explore the library\n",
    "import matplotlib\n",
    "from matplotlib import pyplot as plt"
   ]
  },
  {
   "cell_type": "markdown",
   "metadata": {},
   "source": [
    "### Toy data "
   ]
  },
  {
   "cell_type": "markdown",
   "metadata": {},
   "source": [
    "Let's create a toy dataset to use for illustration and problem-posing purposes. It's very small, so you we can easily see what's going on. In most cases we'll ask you to do exercises using the more complex housing data."
   ]
  },
  {
   "cell_type": "code",
   "execution_count": 4,
   "metadata": {
    "ExecuteTime": {
     "end_time": "2018-01-13T21:32:30.498933Z",
     "start_time": "2018-01-13T21:32:30.399226Z"
    }
   },
   "outputs": [
    {
     "data": {
      "text/html": [
       "<div>\n",
       "<style>\n",
       "    .dataframe thead tr:only-child th {\n",
       "        text-align: right;\n",
       "    }\n",
       "\n",
       "    .dataframe thead th {\n",
       "        text-align: left;\n",
       "    }\n",
       "\n",
       "    .dataframe tbody tr th {\n",
       "        vertical-align: top;\n",
       "    }\n",
       "</style>\n",
       "<table border=\"1\" class=\"dataframe\">\n",
       "  <thead>\n",
       "    <tr style=\"text-align: right;\">\n",
       "      <th></th>\n",
       "      <th>name</th>\n",
       "      <th>number</th>\n",
       "      <th>engine_type</th>\n",
       "      <th>colour</th>\n",
       "      <th>wheels</th>\n",
       "      <th>top_speed_mph</th>\n",
       "      <th>weight_tons</th>\n",
       "      <th>count</th>\n",
       "      <th>size</th>\n",
       "    </tr>\n",
       "  </thead>\n",
       "  <tbody>\n",
       "    <tr>\n",
       "      <th>0</th>\n",
       "      <td>Thomas</td>\n",
       "      <td>1</td>\n",
       "      <td>Tank</td>\n",
       "      <td>Blue</td>\n",
       "      <td>6</td>\n",
       "      <td>40</td>\n",
       "      <td>52.00</td>\n",
       "      <td>1</td>\n",
       "      <td>Medium</td>\n",
       "    </tr>\n",
       "    <tr>\n",
       "      <th>1</th>\n",
       "      <td>Edward</td>\n",
       "      <td>2</td>\n",
       "      <td>Tender</td>\n",
       "      <td>Blue</td>\n",
       "      <td>14</td>\n",
       "      <td>70</td>\n",
       "      <td>41.00</td>\n",
       "      <td>1</td>\n",
       "      <td>Small</td>\n",
       "    </tr>\n",
       "    <tr>\n",
       "      <th>2</th>\n",
       "      <td>Henry</td>\n",
       "      <td>3</td>\n",
       "      <td>Tender</td>\n",
       "      <td>Green</td>\n",
       "      <td>18</td>\n",
       "      <td>90</td>\n",
       "      <td>72.20</td>\n",
       "      <td>1</td>\n",
       "      <td>Big</td>\n",
       "    </tr>\n",
       "    <tr>\n",
       "      <th>3</th>\n",
       "      <td>Gordon</td>\n",
       "      <td>4</td>\n",
       "      <td>Tender</td>\n",
       "      <td>Blue</td>\n",
       "      <td>18</td>\n",
       "      <td>100</td>\n",
       "      <td>91.35</td>\n",
       "      <td>1</td>\n",
       "      <td>Big</td>\n",
       "    </tr>\n",
       "    <tr>\n",
       "      <th>4</th>\n",
       "      <td>James</td>\n",
       "      <td>5</td>\n",
       "      <td>Tender</td>\n",
       "      <td>Red</td>\n",
       "      <td>14</td>\n",
       "      <td>70</td>\n",
       "      <td>46.00</td>\n",
       "      <td>1</td>\n",
       "      <td>Medium</td>\n",
       "    </tr>\n",
       "    <tr>\n",
       "      <th>5</th>\n",
       "      <td>Percy</td>\n",
       "      <td>6</td>\n",
       "      <td>Tank</td>\n",
       "      <td>Green</td>\n",
       "      <td>4</td>\n",
       "      <td>40</td>\n",
       "      <td>22.85</td>\n",
       "      <td>1</td>\n",
       "      <td>Small</td>\n",
       "    </tr>\n",
       "    <tr>\n",
       "      <th>6</th>\n",
       "      <td>Toby</td>\n",
       "      <td>7</td>\n",
       "      <td>Tank</td>\n",
       "      <td>Brown</td>\n",
       "      <td>6</td>\n",
       "      <td>20</td>\n",
       "      <td>27.00</td>\n",
       "      <td>1</td>\n",
       "      <td>Small</td>\n",
       "    </tr>\n",
       "    <tr>\n",
       "      <th>7</th>\n",
       "      <td>Emily</td>\n",
       "      <td>12</td>\n",
       "      <td>Tender</td>\n",
       "      <td>Green</td>\n",
       "      <td>8</td>\n",
       "      <td>85</td>\n",
       "      <td>45.00</td>\n",
       "      <td>1</td>\n",
       "      <td>Small</td>\n",
       "    </tr>\n",
       "    <tr>\n",
       "      <th>8</th>\n",
       "      <td>Rosie</td>\n",
       "      <td>37</td>\n",
       "      <td>Tank</td>\n",
       "      <td>Purple</td>\n",
       "      <td>6</td>\n",
       "      <td>65</td>\n",
       "      <td>37.00</td>\n",
       "      <td>1</td>\n",
       "      <td>Small</td>\n",
       "    </tr>\n",
       "    <tr>\n",
       "      <th>9</th>\n",
       "      <td>Hiro</td>\n",
       "      <td>51</td>\n",
       "      <td>Tender</td>\n",
       "      <td>Black</td>\n",
       "      <td>20</td>\n",
       "      <td>55</td>\n",
       "      <td>76.80</td>\n",
       "      <td>1</td>\n",
       "      <td>Big</td>\n",
       "    </tr>\n",
       "  </tbody>\n",
       "</table>\n",
       "</div>"
      ],
      "text/plain": [
       "     name  number engine_type  colour  wheels  top_speed_mph  weight_tons  \\\n",
       "0  Thomas       1        Tank    Blue       6             40        52.00   \n",
       "1  Edward       2      Tender    Blue      14             70        41.00   \n",
       "2   Henry       3      Tender   Green      18             90        72.20   \n",
       "3  Gordon       4      Tender    Blue      18            100        91.35   \n",
       "4   James       5      Tender     Red      14             70        46.00   \n",
       "5   Percy       6        Tank   Green       4             40        22.85   \n",
       "6    Toby       7        Tank   Brown       6             20        27.00   \n",
       "7   Emily      12      Tender   Green       8             85        45.00   \n",
       "8   Rosie      37        Tank  Purple       6             65        37.00   \n",
       "9    Hiro      51      Tender   Black      20             55        76.80   \n",
       "\n",
       "   count    size  \n",
       "0      1  Medium  \n",
       "1      1   Small  \n",
       "2      1     Big  \n",
       "3      1     Big  \n",
       "4      1  Medium  \n",
       "5      1   Small  \n",
       "6      1   Small  \n",
       "7      1   Small  \n",
       "8      1   Small  \n",
       "9      1     Big  "
      ]
     },
     "execution_count": 4,
     "metadata": {},
     "output_type": "execute_result"
    }
   ],
   "source": [
    "from io import StringIO\n",
    "\n",
    "data_string = \"\"\"name\tnumber\tengine_type\tcolour\twheels\ttop_speed_mph\tweight_tons\n",
    "Thomas\t1\tTank\tBlue\t6\t40\t52\n",
    "Edward\t2\tTender\tBlue\t14\t70\t41\n",
    "Henry\t3\tTender\tGreen\t18\t90\t72.2\n",
    "Gordon\t4\tTender\tBlue\t18\t100\t91.35\n",
    "James\t5\tTender\tRed\t14\t70\t46\n",
    "Percy\t6\tTank\tGreen\t4\t40\t22.85\n",
    "Toby\t7\tTank\tBrown\t6\t20\t27\n",
    "Emily\t12\tTender\tGreen\t8\t85\t45\n",
    "Rosie\t37\tTank\tPurple\t6\t65\t37\n",
    "Hiro\t51\tTender\tBlack\t20\t55\t76.8\"\"\"\n",
    "\n",
    "trains = pd.read_table(StringIO(data_string))\n",
    "trains['count'] = 1\n",
    "trains['size'] = pd.cut(trains['weight_tons'], 3, labels=['Small','Medium','Big'])\n",
    "\n",
    "trains"
   ]
  },
  {
   "cell_type": "markdown",
   "metadata": {},
   "source": [
    "## Matplotlib intro: the pyplot interface "
   ]
  },
  {
   "cell_type": "markdown",
   "metadata": {},
   "source": [
    "Matplotlib comes with an interface of convenience functions, available under `pyplot`. It was originally designed to mimic MATLAB's plotting interface."
   ]
  },
  {
   "cell_type": "code",
   "execution_count": 5,
   "metadata": {
    "ExecuteTime": {
     "end_time": "2018-01-13T21:32:45.580303Z",
     "start_time": "2018-01-13T21:32:44.979534Z"
    },
    "scrolled": true
   },
   "outputs": [
    {
     "data": {
      "text/plain": [
       "[<matplotlib.lines.Line2D at 0x113382828>]"
      ]
     },
     "execution_count": 5,
     "metadata": {},
     "output_type": "execute_result"
    },
    {
     "data": {
      "image/png": "[encoded data removed]",
      "text/plain": [
       "<matplotlib.figure.Figure at 0x10e0f9eb8>"
      ]
     },
     "metadata": {},
     "output_type": "display_data"
    }
   ],
   "source": [
    "x = [1,2,3,4,5]\n",
    "y = [2,5,10,17,26]\n",
    "\n",
    "plt.plot(x,y)"
   ]
  },
  {
   "cell_type": "markdown",
   "metadata": {},
   "source": [
    "`pyplot` has a concept of the \"current\" axes and figure, so you don't generally have to tell functions which plot to act on - they will automatically operate on the most-recent, currently open plot. This is often convenient, but sometimes too restrictive. \n",
    "\n",
    "In Jupyter, each input cell will create a new plot, and every command in the cell will operate on that plot:"
   ]
  },
  {
   "cell_type": "code",
   "execution_count": 6,
   "metadata": {
    "ExecuteTime": {
     "end_time": "2018-01-13T21:32:56.038543Z",
     "start_time": "2018-01-13T21:32:55.797397Z"
    }
   },
   "outputs": [
    {
     "data": {
      "text/plain": [
       "<matplotlib.text.Text at 0x11348edd8>"
      ]
     },
     "execution_count": 6,
     "metadata": {},
     "output_type": "execute_result"
    },
    {
     "data": {
      "image/png": "[encoded data removed]",
      "text/plain": [
       "<matplotlib.figure.Figure at 0x10e0f95f8>"
      ]
     },
     "metadata": {},
     "output_type": "display_data"
    }
   ],
   "source": [
    "y2 = [1,4,9,11,9]\n",
    "\n",
    "plt.plot(x, y, c='blue', label='Projected')\n",
    "plt.scatter(x, y2, c='red', label='Actual')\n",
    "plt.legend()\n",
    "plt.title(\"An example plot\")"
   ]
  },
  {
   "cell_type": "markdown",
   "metadata": {},
   "source": [
    "It's very common to use Numpy arrays and Pandas Series with Matplotlib."
   ]
  },
  {
   "cell_type": "code",
   "execution_count": 7,
   "metadata": {
    "ExecuteTime": {
     "end_time": "2018-01-13T21:32:57.366801Z",
     "start_time": "2018-01-13T21:32:57.164773Z"
    }
   },
   "outputs": [
    {
     "data": {
      "text/plain": [
       "<matplotlib.collections.PathCollection at 0x113323dd8>"
      ]
     },
     "execution_count": 7,
     "metadata": {},
     "output_type": "execute_result"
    },
    {
     "data": {
      "image/png": "[encoded data removed]",
      "text/plain": [
       "<matplotlib.figure.Figure at 0x113323908>"
      ]
     },
     "metadata": {},
     "output_type": "display_data"
    }
   ],
   "source": [
    "x = np.linspace(0, 100, 200)  # 200 points from 0 to 100\n",
    "wavelength = 20\n",
    "y = np.sin(2*np.pi*x/wavelength) * 1/np.sqrt(x+1)\n",
    "y_noisy = y + 0.05*np.random.randn(len(y))\n",
    "\n",
    "plt.plot(x, y, c='red')\n",
    "plt.scatter(x, y_noisy, c='green', s=8)  # s sets size"
   ]
  },
  {
   "cell_type": "markdown",
   "metadata": {},
   "source": [
    "**Exercise:** Using the toy `trains` dataset, create a scatter plot of `top_speed_mph` against   `wheels`."
   ]
  },
  {
   "cell_type": "code",
   "execution_count": 8,
   "metadata": {
    "ExecuteTime": {
     "end_time": "2018-01-13T21:32:58.219627Z",
     "start_time": "2018-01-13T21:32:58.196415Z"
    },
    "scrolled": true
   },
   "outputs": [
    {
     "data": {
      "text/html": [
       "<div>\n",
       "<style>\n",
       "    .dataframe thead tr:only-child th {\n",
       "        text-align: right;\n",
       "    }\n",
       "\n",
       "    .dataframe thead th {\n",
       "        text-align: left;\n",
       "    }\n",
       "\n",
       "    .dataframe tbody tr th {\n",
       "        vertical-align: top;\n",
       "    }\n",
       "</style>\n",
       "<table border=\"1\" class=\"dataframe\">\n",
       "  <thead>\n",
       "    <tr style=\"text-align: right;\">\n",
       "      <th></th>\n",
       "      <th>name</th>\n",
       "      <th>number</th>\n",
       "      <th>engine_type</th>\n",
       "      <th>colour</th>\n",
       "      <th>wheels</th>\n",
       "      <th>top_speed_mph</th>\n",
       "      <th>weight_tons</th>\n",
       "      <th>count</th>\n",
       "      <th>size</th>\n",
       "    </tr>\n",
       "  </thead>\n",
       "  <tbody>\n",
       "    <tr>\n",
       "      <th>0</th>\n",
       "      <td>Thomas</td>\n",
       "      <td>1</td>\n",
       "      <td>Tank</td>\n",
       "      <td>Blue</td>\n",
       "      <td>6</td>\n",
       "      <td>40</td>\n",
       "      <td>52.00</td>\n",
       "      <td>1</td>\n",
       "      <td>Medium</td>\n",
       "    </tr>\n",
       "    <tr>\n",
       "      <th>1</th>\n",
       "      <td>Edward</td>\n",
       "      <td>2</td>\n",
       "      <td>Tender</td>\n",
       "      <td>Blue</td>\n",
       "      <td>14</td>\n",
       "      <td>70</td>\n",
       "      <td>41.00</td>\n",
       "      <td>1</td>\n",
       "      <td>Small</td>\n",
       "    </tr>\n",
       "    <tr>\n",
       "      <th>2</th>\n",
       "      <td>Henry</td>\n",
       "      <td>3</td>\n",
       "      <td>Tender</td>\n",
       "      <td>Green</td>\n",
       "      <td>18</td>\n",
       "      <td>90</td>\n",
       "      <td>72.20</td>\n",
       "      <td>1</td>\n",
       "      <td>Big</td>\n",
       "    </tr>\n",
       "    <tr>\n",
       "      <th>3</th>\n",
       "      <td>Gordon</td>\n",
       "      <td>4</td>\n",
       "      <td>Tender</td>\n",
       "      <td>Blue</td>\n",
       "      <td>18</td>\n",
       "      <td>100</td>\n",
       "      <td>91.35</td>\n",
       "      <td>1</td>\n",
       "      <td>Big</td>\n",
       "    </tr>\n",
       "    <tr>\n",
       "      <th>4</th>\n",
       "      <td>James</td>\n",
       "      <td>5</td>\n",
       "      <td>Tender</td>\n",
       "      <td>Red</td>\n",
       "      <td>14</td>\n",
       "      <td>70</td>\n",
       "      <td>46.00</td>\n",
       "      <td>1</td>\n",
       "      <td>Medium</td>\n",
       "    </tr>\n",
       "    <tr>\n",
       "      <th>5</th>\n",
       "      <td>Percy</td>\n",
       "      <td>6</td>\n",
       "      <td>Tank</td>\n",
       "      <td>Green</td>\n",
       "      <td>4</td>\n",
       "      <td>40</td>\n",
       "      <td>22.85</td>\n",
       "      <td>1</td>\n",
       "      <td>Small</td>\n",
       "    </tr>\n",
       "    <tr>\n",
       "      <th>6</th>\n",
       "      <td>Toby</td>\n",
       "      <td>7</td>\n",
       "      <td>Tank</td>\n",
       "      <td>Brown</td>\n",
       "      <td>6</td>\n",
       "      <td>20</td>\n",
       "      <td>27.00</td>\n",
       "      <td>1</td>\n",
       "      <td>Small</td>\n",
       "    </tr>\n",
       "    <tr>\n",
       "      <th>7</th>\n",
       "      <td>Emily</td>\n",
       "      <td>12</td>\n",
       "      <td>Tender</td>\n",
       "      <td>Green</td>\n",
       "      <td>8</td>\n",
       "      <td>85</td>\n",
       "      <td>45.00</td>\n",
       "      <td>1</td>\n",
       "      <td>Small</td>\n",
       "    </tr>\n",
       "    <tr>\n",
       "      <th>8</th>\n",
       "      <td>Rosie</td>\n",
       "      <td>37</td>\n",
       "      <td>Tank</td>\n",
       "      <td>Purple</td>\n",
       "      <td>6</td>\n",
       "      <td>65</td>\n",
       "      <td>37.00</td>\n",
       "      <td>1</td>\n",
       "      <td>Small</td>\n",
       "    </tr>\n",
       "    <tr>\n",
       "      <th>9</th>\n",
       "      <td>Hiro</td>\n",
       "      <td>51</td>\n",
       "      <td>Tender</td>\n",
       "      <td>Black</td>\n",
       "      <td>20</td>\n",
       "      <td>55</td>\n",
       "      <td>76.80</td>\n",
       "      <td>1</td>\n",
       "      <td>Big</td>\n",
       "    </tr>\n",
       "  </tbody>\n",
       "</table>\n",
       "</div>"
      ],
      "text/plain": [
       "     name  number engine_type  colour  wheels  top_speed_mph  weight_tons  \\\n",
       "0  Thomas       1        Tank    Blue       6             40        52.00   \n",
       "1  Edward       2      Tender    Blue      14             70        41.00   \n",
       "2   Henry       3      Tender   Green      18             90        72.20   \n",
       "3  Gordon       4      Tender    Blue      18            100        91.35   \n",
       "4   James       5      Tender     Red      14             70        46.00   \n",
       "5   Percy       6        Tank   Green       4             40        22.85   \n",
       "6    Toby       7        Tank   Brown       6             20        27.00   \n",
       "7   Emily      12      Tender   Green       8             85        45.00   \n",
       "8   Rosie      37        Tank  Purple       6             65        37.00   \n",
       "9    Hiro      51      Tender   Black      20             55        76.80   \n",
       "\n",
       "   count    size  \n",
       "0      1  Medium  \n",
       "1      1   Small  \n",
       "2      1     Big  \n",
       "3      1     Big  \n",
       "4      1  Medium  \n",
       "5      1   Small  \n",
       "6      1   Small  \n",
       "7      1   Small  \n",
       "8      1   Small  \n",
       "9      1     Big  "
      ]
     },
     "execution_count": 8,
     "metadata": {},
     "output_type": "execute_result"
    }
   ],
   "source": [
    "# for reference: here's that dataset\n",
    "trains"
   ]
  },
  {
   "cell_type": "code",
   "execution_count": null,
   "metadata": {
    "collapsed": true
   },
   "outputs": [],
   "source": []
  },
  {
   "cell_type": "markdown",
   "metadata": {},
   "source": [
    "You can find a gallery of Matplotlib plot types at https://matplotlib.org/gallery.html.\n",
    "\n",
    "Let's try a bar plot showing the average speed of tender engines vs tank engines. "
   ]
  },
  {
   "cell_type": "code",
   "execution_count": 17,
   "metadata": {
    "ExecuteTime": {
     "end_time": "2018-01-13T02:55:33.076604Z",
     "start_time": "2018-01-13T02:55:32.792636Z"
    },
    "scrolled": true
   },
   "outputs": [
    {
     "name": "stdout",
     "output_type": "stream",
     "text": [
      "engine_type\n",
      "Tank      41.250000\n",
      "Tender    78.333333\n",
      "Name: top_speed_mph, dtype: float64\n",
      "engine_type\n",
      "Tank      18.427787\n",
      "Tender    16.329932\n",
      "Name: top_speed_mph, dtype: float64\n"
     ]
    },
    {
     "data": {
      "text/plain": [
       "<Container object of 2 artists>"
      ]
     },
     "execution_count": 17,
     "metadata": {},
     "output_type": "execute_result"
    },
    {
     "data": {
      "image/png": "[encoded data removed]",
      "text/plain": [
       "<matplotlib.figure.Figure at 0x10a683470>"
      ]
     },
     "metadata": {},
     "output_type": "display_data"
    }
   ],
   "source": [
    "average_top_speeds = trains.groupby('engine_type')['top_speed_mph'].aggregate(np.mean)\n",
    "speed_stderrs = trains.groupby('engine_type')['top_speed_mph'].aggregate(np.std)\n",
    "print(average_top_speeds)\n",
    "print(speed_stderrs)\n",
    "\n",
    "# this is a horizontal bar plot; plt.bar would give a vertical plot\n",
    "plt.barh(bottom=[0,1], width=average_top_speeds, xerr=speed_stderrs, \n",
    "         tick_label=average_top_speeds.index)"
   ]
  },
  {
   "cell_type": "markdown",
   "metadata": {},
   "source": [
    "Notice that Matplotlib bar plots expect us to input the length of the bars directly, so we needed to calculate these averages using Pandas.\n",
    "\n",
    "A [boxplot](https://matplotlib.org/api/_as_gen/matplotlib.axes.Axes.boxplot.html) is actually a little easier in terms of summary statistics: we provide a list of arrays/series/lists, each one of which is the set of datapoints for one box. Here's some data transformed with Pandas to use:"
   ]
  },
  {
   "cell_type": "code",
   "execution_count": 31,
   "metadata": {
    "ExecuteTime": {
     "end_time": "2018-01-13T03:15:34.651909Z",
     "start_time": "2018-01-13T03:15:34.369338Z"
    }
   },
   "outputs": [
    {
     "data": {
      "image/png": "[encoded data removed]",
      "text/plain": [
       "<matplotlib.figure.Figure at 0x114006208>"
      ]
     },
     "metadata": {},
     "output_type": "display_data"
    }
   ],
   "source": [
    "data = [series for (groupname, series) in list(trains.groupby('engine_type')['top_speed_mph'])]\n",
    "label_names = [groupname for (groupname, series) in list(trains.groupby('engine_type')['top_speed_mph'])]\n",
    "\n",
    "g = plt.boxplot(x=data, labels=label_names)"
   ]
  },
  {
   "cell_type": "markdown",
   "metadata": {},
   "source": [
    "## Interlude: tidy data "
   ]
  },
  {
   "cell_type": "markdown",
   "metadata": {},
   "source": [
    "The dataset below is a spoiler! Before looking at it, do the \"tidy data\" exercise in the workshop."
   ]
  },
  {
   "cell_type": "markdown",
   "metadata": {},
   "source": [
    "## Housing data "
   ]
  },
  {
   "cell_type": "markdown",
   "metadata": {},
   "source": [
    "Let's read in the data we will use for the rest of the workshop. This is house sales data from Seattle in 2014-2015. To simplify things, we'll read in only the fields we'll use, but you can read in the rest of the fields to play later if you want more variables.\n",
    "\n",
    "First, a quick look at the raw data:"
   ]
  },
  {
   "cell_type": "code",
   "execution_count": 34,
   "metadata": {
    "ExecuteTime": {
     "end_time": "2018-01-13T05:40:05.729365Z",
     "start_time": "2018-01-13T05:40:05.536798Z"
    }
   },
   "outputs": [
    {
     "name": "stdout",
     "output_type": "stream",
     "text": [
      "id,date,price,bedrooms,bathrooms,sqft_living,sqft_lot,floors,waterfront,view,condition,grade,sqft_above,sqft_basement,yr_built,yr_renovated,zipcode,lat,long\r\n",
      "1446800660,2015-03-16,276500.0,4,1.75,1400,6650,1.5,0,0,4,6,1400,0,1942,0,98168,47.4888,-122.33200000000001\r\n",
      "1453601502,2015-02-26,303697.0,4,2.0,2520,7334,1.0,0,0,3,7,1600,920,1955,0,98125,47.7263,-122.291\r\n"
     ]
    }
   ],
   "source": [
    "!head -n 3 housing-data-10000.csv"
   ]
  },
  {
   "cell_type": "markdown",
   "metadata": {},
   "source": [
    "This data is pretty tidy already. We have one sale per row, one column per variable, and just one table of observations."
   ]
  },
  {
   "cell_type": "code",
   "execution_count": 25,
   "metadata": {
    "ExecuteTime": {
     "end_time": "2018-01-13T23:03:24.111157Z",
     "start_time": "2018-01-13T23:03:24.038593Z"
    },
    "collapsed": true
   },
   "outputs": [],
   "source": [
    "sales = pd.read_csv(\"housing-data-10000.csv\", \n",
    "                    usecols=['id','date','price','zipcode','lat','long',\n",
    "                             'waterfront','view','grade','sqft_living','sqft_lot'],\n",
    "                    parse_dates=['date'], \n",
    "                    dtype={'zipcode': 'category',\n",
    "                           'waterfront': 'bool'})\n",
    "\n",
    "# We'll add a count column that is just 1 for every sale - convenient for aggregating sale counts later\n",
    "sales['count'] = 1"
   ]
  },
  {
   "cell_type": "code",
   "execution_count": 3,
   "metadata": {
    "ExecuteTime": {
     "end_time": "2018-01-11T03:03:24.803054Z",
     "start_time": "2018-01-11T03:03:24.736592Z"
    }
   },
   "outputs": [
    {
     "data": {
      "text/html": [
       "<div>\n",
       "<style>\n",
       "    .dataframe thead tr:only-child th {\n",
       "        text-align: right;\n",
       "    }\n",
       "\n",
       "    .dataframe thead th {\n",
       "        text-align: left;\n",
       "    }\n",
       "\n",
       "    .dataframe tbody tr th {\n",
       "        vertical-align: top;\n",
       "    }\n",
       "</style>\n",
       "<table border=\"1\" class=\"dataframe\">\n",
       "  <thead>\n",
       "    <tr style=\"text-align: right;\">\n",
       "      <th></th>\n",
       "      <th>id</th>\n",
       "      <th>date</th>\n",
       "      <th>price</th>\n",
       "      <th>sqft_living</th>\n",
       "      <th>sqft_lot</th>\n",
       "      <th>waterfront</th>\n",
       "      <th>view</th>\n",
       "      <th>grade</th>\n",
       "      <th>zipcode</th>\n",
       "      <th>lat</th>\n",
       "      <th>long</th>\n",
       "      <th>count</th>\n",
       "    </tr>\n",
       "  </thead>\n",
       "  <tbody>\n",
       "    <tr>\n",
       "      <th>0</th>\n",
       "      <td>7129300520</td>\n",
       "      <td>2014-10-13</td>\n",
       "      <td>221900.0</td>\n",
       "      <td>1180</td>\n",
       "      <td>5650</td>\n",
       "      <td>False</td>\n",
       "      <td>0</td>\n",
       "      <td>7</td>\n",
       "      <td>98178</td>\n",
       "      <td>47.5112</td>\n",
       "      <td>-122.257</td>\n",
       "      <td>1</td>\n",
       "    </tr>\n",
       "    <tr>\n",
       "      <th>1</th>\n",
       "      <td>6414100192</td>\n",
       "      <td>2014-12-09</td>\n",
       "      <td>538000.0</td>\n",
       "      <td>2570</td>\n",
       "      <td>7242</td>\n",
       "      <td>False</td>\n",
       "      <td>0</td>\n",
       "      <td>7</td>\n",
       "      <td>98125</td>\n",
       "      <td>47.7210</td>\n",
       "      <td>-122.319</td>\n",
       "      <td>1</td>\n",
       "    </tr>\n",
       "    <tr>\n",
       "      <th>2</th>\n",
       "      <td>5631500400</td>\n",
       "      <td>2015-02-25</td>\n",
       "      <td>180000.0</td>\n",
       "      <td>770</td>\n",
       "      <td>10000</td>\n",
       "      <td>False</td>\n",
       "      <td>0</td>\n",
       "      <td>6</td>\n",
       "      <td>98028</td>\n",
       "      <td>47.7379</td>\n",
       "      <td>-122.233</td>\n",
       "      <td>1</td>\n",
       "    </tr>\n",
       "    <tr>\n",
       "      <th>3</th>\n",
       "      <td>2487200875</td>\n",
       "      <td>2014-12-09</td>\n",
       "      <td>604000.0</td>\n",
       "      <td>1960</td>\n",
       "      <td>5000</td>\n",
       "      <td>False</td>\n",
       "      <td>0</td>\n",
       "      <td>7</td>\n",
       "      <td>98136</td>\n",
       "      <td>47.5208</td>\n",
       "      <td>-122.393</td>\n",
       "      <td>1</td>\n",
       "    </tr>\n",
       "    <tr>\n",
       "      <th>4</th>\n",
       "      <td>1954400510</td>\n",
       "      <td>2015-02-18</td>\n",
       "      <td>510000.0</td>\n",
       "      <td>1680</td>\n",
       "      <td>8080</td>\n",
       "      <td>False</td>\n",
       "      <td>0</td>\n",
       "      <td>8</td>\n",
       "      <td>98074</td>\n",
       "      <td>47.6168</td>\n",
       "      <td>-122.045</td>\n",
       "      <td>1</td>\n",
       "    </tr>\n",
       "  </tbody>\n",
       "</table>\n",
       "</div>"
      ],
      "text/plain": [
       "           id       date     price  sqft_living  sqft_lot  waterfront  view  \\\n",
       "0  7129300520 2014-10-13  221900.0         1180      5650       False     0   \n",
       "1  6414100192 2014-12-09  538000.0         2570      7242       False     0   \n",
       "2  5631500400 2015-02-25  180000.0          770     10000       False     0   \n",
       "3  2487200875 2014-12-09  604000.0         1960      5000       False     0   \n",
       "4  1954400510 2015-02-18  510000.0         1680      8080       False     0   \n",
       "\n",
       "   grade zipcode      lat     long  count  \n",
       "0      7   98178  47.5112 -122.257      1  \n",
       "1      7   98125  47.7210 -122.319      1  \n",
       "2      6   98028  47.7379 -122.233      1  \n",
       "3      7   98136  47.5208 -122.393      1  \n",
       "4      8   98074  47.6168 -122.045      1  "
      ]
     },
     "execution_count": 3,
     "metadata": {},
     "output_type": "execute_result"
    }
   ],
   "source": [
    "sales.head()"
   ]
  },
  {
   "cell_type": "code",
   "execution_count": 8,
   "metadata": {
    "ExecuteTime": {
     "end_time": "2018-01-11T05:39:16.953619Z",
     "start_time": "2018-01-11T05:39:16.480326Z"
    }
   },
   "outputs": [
    {
     "data": {
      "text/plain": [
       "id                      int64\n",
       "date           datetime64[ns]\n",
       "price                 float64\n",
       "sqft_living             int64\n",
       "sqft_lot                int64\n",
       "waterfront               bool\n",
       "view                    int64\n",
       "grade                   int64\n",
       "zipcode              category\n",
       "lat                   float64\n",
       "long                  float64\n",
       "count                   int64\n",
       "dtype: object"
      ]
     },
     "execution_count": 8,
     "metadata": {},
     "output_type": "execute_result"
    }
   ],
   "source": [
    "sales.dtypes"
   ]
  },
  {
   "cell_type": "markdown",
   "metadata": {},
   "source": [
    "Note that as well as specifying that the `date` field should be parsed as a date, we specified that certain variables are categorical (as opposed to integers). Some plotting commands understand pandas DataFrames and will treat categorical variables differently to numerical variables."
   ]
  },
  {
   "cell_type": "markdown",
   "metadata": {},
   "source": [
    "## Matplotlib  "
   ]
  },
  {
   "cell_type": "markdown",
   "metadata": {},
   "source": [
    "### Figures and Axes "
   ]
  },
  {
   "cell_type": "markdown",
   "metadata": {},
   "source": [
    "Under the hood, Matplotlib is an object-oriented library. I recommend using the object-oriented interface directly rather than the pyplot interface, for full control over your plots. \n",
    "\n",
    "Libraries built on Matplotlib can also return Matplotlib objects - we'll see this later with Seaborn. Understanding a bit of the structure of Matplotlib objects will let you tweak your Seaborn plots.\n",
    "\n",
    "Here's how to make the plot we made above, using method calls instead of the shortcut `plt.scatter`:"
   ]
  },
  {
   "cell_type": "code",
   "execution_count": 11,
   "metadata": {
    "ExecuteTime": {
     "end_time": "2018-01-13T21:34:20.905828Z",
     "start_time": "2018-01-13T21:34:20.853984Z"
    },
    "collapsed": true
   },
   "outputs": [],
   "source": [
    "?fig.add_subplot"
   ]
  },
  {
   "cell_type": "code",
   "execution_count": 12,
   "metadata": {
    "ExecuteTime": {
     "end_time": "2018-01-13T21:34:37.780464Z",
     "start_time": "2018-01-13T21:34:37.393869Z"
    }
   },
   "outputs": [
    {
     "data": {
      "text/plain": [
       "<matplotlib.text.Text at 0x1138040b8>"
      ]
     },
     "execution_count": 12,
     "metadata": {},
     "output_type": "execute_result"
    },
    {
     "data": {
      "image/png": "[encoded data removed]",
      "text/plain": [
       "<matplotlib.figure.Figure at 0x113738be0>"
      ]
     },
     "metadata": {},
     "output_type": "display_data"
    }
   ],
   "source": [
    "# we could be even more explicit here and instead use\n",
    "# fig = plt.figure()\n",
    "# ax = fig.add_subplot(1,1,1)\n",
    "fig, ax = plt.subplots()\n",
    "\n",
    "x = [1,2,3,4,5]\n",
    "y = [2,5,10,17,26]\n",
    "y2 = [1,4,9,11,9]\n",
    "\n",
    "ax.plot(x, y, c='blue', label='Projected')\n",
    "ax.scatter(x, y2, c='red', label='Actual')\n",
    "ax.legend()\n",
    "ax.set_title(\"An example plot\")"
   ]
  },
  {
   "cell_type": "markdown",
   "metadata": {},
   "source": [
    "Let's look at the objects we created in the first step:"
   ]
  },
  {
   "cell_type": "code",
   "execution_count": 29,
   "metadata": {
    "ExecuteTime": {
     "end_time": "2018-01-13T03:10:05.313415Z",
     "start_time": "2018-01-13T03:10:05.306726Z"
    }
   },
   "outputs": [
    {
     "data": {
      "text/plain": [
       "(matplotlib.figure.Figure, matplotlib.axes._subplots.AxesSubplot)"
      ]
     },
     "execution_count": 29,
     "metadata": {},
     "output_type": "execute_result"
    }
   ],
   "source": [
    "type(fig), type(ax)"
   ]
  },
  {
   "cell_type": "markdown",
   "metadata": {},
   "source": [
    "Here, `fig` is a Matplotlib `Figure` class instance representing the figure we've drawn. The `Axes` are a property of the figure. So, we still have access to our plot, and can display and modify it."
   ]
  },
  {
   "cell_type": "code",
   "execution_count": 43,
   "metadata": {
    "ExecuteTime": {
     "end_time": "2018-01-13T03:21:58.634129Z",
     "start_time": "2018-01-13T03:21:58.500329Z"
    },
    "scrolled": true
   },
   "outputs": [
    {
     "data": {
      "image/png": "[encoded data removed]",
      "text/plain": [
       "<matplotlib.figure.Figure at 0x11441e6d8>"
      ]
     },
     "execution_count": 43,
     "metadata": {},
     "output_type": "execute_result"
    }
   ],
   "source": [
    "fig"
   ]
  },
  {
   "cell_type": "code",
   "execution_count": 35,
   "metadata": {
    "ExecuteTime": {
     "end_time": "2018-01-13T03:19:39.648501Z",
     "start_time": "2018-01-13T03:19:39.641511Z"
    }
   },
   "outputs": [
    {
     "data": {
      "text/plain": [
       "[<matplotlib.axes._subplots.AxesSubplot at 0x1050c82b0>]"
      ]
     },
     "execution_count": 35,
     "metadata": {},
     "output_type": "execute_result"
    }
   ],
   "source": [
    "fig.axes"
   ]
  },
  {
   "cell_type": "code",
   "execution_count": 44,
   "metadata": {
    "ExecuteTime": {
     "end_time": "2018-01-13T03:22:03.414519Z",
     "start_time": "2018-01-13T03:22:03.406294Z"
    }
   },
   "outputs": [
    {
     "data": {
      "text/plain": [
       "<matplotlib.text.Annotation at 0x11442ae48>"
      ]
     },
     "execution_count": 44,
     "metadata": {},
     "output_type": "execute_result"
    }
   ],
   "source": [
    "the_same_axes_as_before = fig.axes[0]\n",
    "\n",
    "the_same_axes_as_before.annotate(\"where it all went wrong\", \n",
    "                                 xy=(3,10), xytext=(1,12),\n",
    "                                 arrowprops={'width':2})"
   ]
  },
  {
   "cell_type": "code",
   "execution_count": 45,
   "metadata": {
    "ExecuteTime": {
     "end_time": "2018-01-13T03:22:04.595430Z",
     "start_time": "2018-01-13T03:22:04.440122Z"
    }
   },
   "outputs": [
    {
     "data": {
      "image/png": "[encoded data removed]",
      "text/plain": [
       "<matplotlib.figure.Figure at 0x11441e6d8>"
      ]
     },
     "execution_count": 45,
     "metadata": {},
     "output_type": "execute_result"
    }
   ],
   "source": [
    "fig"
   ]
  },
  {
   "cell_type": "markdown",
   "metadata": {},
   "source": [
    "`ax` is a Matplotlib `Axes` class instance. It represents an area of a figure with coordinates, on which we can plot. You can see that most of our plotting methods are actually methods of the `Axes` class, e.g. `Axes.scatter()`, and they add plot elements to the axes they're called on. `plt.scatter()` is just a wrapper around `Axes.scatter()`. Try running `??plt.scatter` to see the source code of this wrapper.\n",
    "\n",
    "If you've been working in the pyplot interface and need to retrieve the currently-active Figure or Axes objects, you can use the `plt.gcf()` (get current figure) and `plt.gca()` (get current axes) functions."
   ]
  },
  {
   "cell_type": "markdown",
   "metadata": {},
   "source": [
    "**Exercise:** Create a scatter plot of house sales, using the latitude as the y-coordinate, and the longitude as the x-coordinate. Try to use object-oriented method calls for everything except creating the initial object(s). Give your figure a title, like \"House sales in Seattle\"."
   ]
  },
  {
   "cell_type": "markdown",
   "metadata": {},
   "source": [
    "### Subplots "
   ]
  },
  {
   "cell_type": "markdown",
   "metadata": {},
   "source": [
    "A figure can have more than one set of axes. This is how we create subplots.\n",
    "\n",
    "`Figure.add_subplot(nrows, ncols, n)` will create a grid of `nrows x ncols` subplots, and return the nth axes object from the list. `plt.subplot()` is a wrapper around this method.\n",
    "\n",
    "`plt.subplots(nrows, ncols)` will create a new Figure object and then add a grid of subplots, and return a tuple of the Figure and the array of all Axes. It's a commonly-used utility function. You will often see it used even when we only want a single plot on our figure, as we did above.\n",
    "\n",
    "Extra arguments to `plt.subplots()` are passed through to the `plt.figure()` call, so we can specify e.g. the figure size this way."
   ]
  },
  {
   "cell_type": "code",
   "execution_count": 41,
   "metadata": {
    "ExecuteTime": {
     "end_time": "2018-01-13T06:03:03.986677Z",
     "start_time": "2018-01-13T06:03:03.466185Z"
    }
   },
   "outputs": [
    {
     "name": "stdout",
     "output_type": "stream",
     "text": [
      "The shape of the axes array is  (2,)\n"
     ]
    },
    {
     "data": {
      "text/plain": [
       "<matplotlib.text.Text at 0x116659898>"
      ]
     },
     "execution_count": 41,
     "metadata": {},
     "output_type": "execute_result"
    },
    {
     "data": {
      "image/png": "[encoded data removed]",
      "text/plain": [
       "<matplotlib.figure.Figure at 0x116933748>"
      ]
     },
     "metadata": {},
     "output_type": "display_data"
    }
   ],
   "source": [
    "fig, axes = plt.subplots(nrows=2, ncols=1, sharex=True, figsize=(6,8))\n",
    "\n",
    "print(\"The shape of the axes array is \",axes.shape)\n",
    "\n",
    "axes[0].scatter(x=trains['wheels'], y=trains['top_speed_mph'])\n",
    "axes[0].set_ylabel(\"Speed\")\n",
    "\n",
    "axes[1].scatter(x=trains['wheels'], y=trains['weight_tons'])\n",
    "axes[1].set_ylabel(\"Weight\")\n",
    "axes[1].set_xlabel(\"Wheels\")\n",
    "\n",
    "# This sets the minimum of the x-axis to zero, and leaves the maximum to auto\n",
    "# It affects both subplots since we set sharex=True\n",
    "axes[0].set_xlim(0,None)\n",
    "\n",
    "# This sets the y-axis, but each call only affects one subplot\n",
    "# Set max weight to 200 just to illustrate\n",
    "axes[0].set_ylim(0,None)\n",
    "axes[1].set_ylim(0,200)\n",
    "\n",
    "# Add a title to the entire figure, not one of the axes\n",
    "fig.suptitle(\"Really useful engines\")"
   ]
  },
  {
   "cell_type": "markdown",
   "metadata": {},
   "source": [
    "NB: the `matplotlib.gridspec.GridSpec` class can be used to make more complicated layouts of subplots. We won't use this today."
   ]
  },
  {
   "cell_type": "markdown",
   "metadata": {},
   "source": [
    "**Exercise:** Create two subplots, one above the other. In the top plot, plot a boxplot of house price across the `waterfront` variable (i.e. `price` on y axis, `waterfront` on x axis). In the bottom plot, plot a barplot of the *count* of the number of waterfront and non-waterfront sales.\n",
    "\n",
    "The positions of the box plots along the x-axis will default to `[1,2]` (this is the default `positions` argument), so you can set the `left` parameter in the bar plot to match if you want your plots to line up nicely.\n",
    "\n",
    "USe `?plt.bar()` and `?plt.boxplot()` to easily see documentation on the plotting functions, but try to use the Axes methods to actually plot them.\n",
    "\n",
    "<details closed style=\"border: 1px solid darkgreen; background: #f0fff0; padding: 5px; margin: 5px\">\n",
    "<summary>Hint: making a box plot</summary>\n",
    "<p>\n",
    "You need to pass the `boxplot()` function's `x` parameter a list of two vectors: one vector of numbers for non-waterfront prices, and one for waterfront prices. You could make these with\n",
    "</p><p>\n",
    "```\n",
    "nonwaterfront_prices = sales.loc[~sales['waterfront'], 'price']\n",
    "waterfront_prices = sales.loc[sales['waterfront'], 'price']\n",
    "price_lists = [nonwaterfront_prices, waterfront_prices]\n",
    "```\n",
    "</p><p>\n",
    "Here `sales['waterfront']` is already a boolean variable, so `sales['waterfront']` is equivalent to `sales['waterfront']==True` and `~sales['waterfront']` is equivalent to `sales['waterfront']==False`.\n",
    "</p><p>\n",
    "More efficient is to use `groupby()`:\n",
    "</p><p>\n",
    "```\n",
    "price_groups = list(sales.groupby('waterfront')['price'])\n",
    "price_lists = [series for (label, series) in price_groups]\n",
    "```\n",
    "</p>\n",
    "\n",
    "```\n",
    "\n",
    "```\n",
    "\n",
    "</details>\n",
    "\n",
    "<details closed style=\"border: 1px solid darkgreen; background: #f0fff0; padding: 5px; margin: 5px\">\n",
    "<summary>Hint: summing counts for the bar plot</summary>\n",
    "\n",
    "You can sum counts with Pandas `Series.value_counts()`.\n",
    "\n",
    "Specifically, if \n",
    "</p><p>\n",
    "```counts = sales['waterfront'].value_counts() = sales['waterfront'].value_counts()```\n",
    "</p><p>\n",
    "then the heights of the bars shoud be set to `counts`, and the `tick_label` parameter can be set to `counts.index`.\n",
    "</p><p>\n",
    "It's also possible to use `groupby()` and then `count()` or `aggregate(np.sum)`.\n",
    "</p>\n",
    "</details>"
   ]
  },
  {
   "cell_type": "code",
   "execution_count": null,
   "metadata": {
    "collapsed": true
   },
   "outputs": [],
   "source": []
  },
  {
   "cell_type": "markdown",
   "metadata": {},
   "source": [
    "### Styles"
   ]
  },
  {
   "cell_type": "markdown",
   "metadata": {},
   "source": [
    "Matplotlib now has style sheets and context managers, which allow you to change the parameters for a plot. Context managers have an effect within the scope of a `with` block. For instance:"
   ]
  },
  {
   "cell_type": "code",
   "execution_count": 28,
   "metadata": {
    "ExecuteTime": {
     "end_time": "2018-01-13T23:08:00.554772Z",
     "start_time": "2018-01-13T23:08:00.323266Z"
    }
   },
   "outputs": [
    {
     "data": {
      "image/png": "[encoded data removed]",
      "text/plain": [
       "<matplotlib.figure.Figure at 0x113a1f9e8>"
      ]
     },
     "metadata": {},
     "output_type": "display_data"
    }
   ],
   "source": [
    "with plt.style.context('ggplot'):\n",
    "    fig, ax = plt.subplots()\n",
    "    ax.scatter(x=trains['weight_tons'], y=trains['top_speed_mph'])\n",
    "    ax.set_xlabel('Weight')\n",
    "    ax.set_ylabel('Top speed')"
   ]
  },
  {
   "cell_type": "markdown",
   "metadata": {},
   "source": [
    "A few example style sheets are:\n",
    "\n",
    "- default : the Matplotlib 2 default\n",
    "- ggplot : like R's ggplot\n",
    "- seaborn : like Seaborn\n",
    "- classic : what Matplotlib looked like once apon a time\n",
    "- grayscale\n",
    "\n",
    "Styles can be set permanently, instead of in a context, using `plt.style.use()`. \n",
    "\n",
    "Stylesheets are essentially sets of parameters, and you can define your own. You can find out more about the `style` package [here](https://matplotlib.org/users/style_sheets.html). \n"
   ]
  },
  {
   "cell_type": "markdown",
   "metadata": {},
   "source": [
    "### Colours "
   ]
  },
  {
   "cell_type": "markdown",
   "metadata": {},
   "source": [
    "Matplotlib has a good range of colours. We'll look a bit at colour functionality, and there are some more convenience functions when we get up to Seaborn.\n",
    "\n",
    "Colours can be specified by name (e.g. \"red\", \"blue\", \"palegoldenrod\"....) - a list of named colours is [here](https://matplotlib.org/examples/color/named_colors.html)\n",
    "\n",
    "Colours can be specified by RGB or RGBA value, as hex (e.g. \"#ffffa0\" or \"#ffffa088\") or as tuples, e.g. (1,1,0.6) or (1,1,0.6,0.5).\n",
    "\n",
    "_Colormaps_ map continuous variables to colours. This is done by normalising the variable into the [0,1] range, then mapping this to a defined range of colours. The `plt.cm` module contains built-in colourmaps, and these can also be retrieved with `plt.get_cmap(name)`.\n",
    "\n",
    "There's some Matplotlib documentation on [Choosing Colormaps](https://matplotlib.org/users/colormaps.html), which illustrates available built-in colormaps."
   ]
  },
  {
   "cell_type": "code",
   "execution_count": 14,
   "metadata": {
    "ExecuteTime": {
     "end_time": "2018-01-13T22:51:26.488443Z",
     "start_time": "2018-01-13T22:51:26.272986Z"
    }
   },
   "outputs": [
    {
     "data": {
      "text/plain": [
       "<matplotlib.image.AxesImage at 0x11353a588>"
      ]
     },
     "execution_count": 14,
     "metadata": {},
     "output_type": "execute_result"
    },
    {
     "data": {
      "image/png": "[encoded data removed]",
      "text/plain": [
       "<matplotlib.figure.Figure at 0x11353a7b8>"
      ]
     },
     "metadata": {},
     "output_type": "display_data"
    }
   ],
   "source": [
    "# Show the plt.cm.Greens_r colormap. Replace with other colormaps to see them. \n",
    "# Greens_r is a sequential colormap of greens of differing intensities.\n",
    "# _r means it is reversed (dark to light)\n",
    "\n",
    "colourmap = plt.get_cmap(\"Greens_r\")\n",
    "\n",
    "fix, ax = plt.subplots(figsize=(5,0.5))\n",
    "\n",
    "# Make an image which is two rows of points with a gradient from 0 to 1\n",
    "gradient = np.linspace(0, 1, 256)\n",
    "image = np.vstack([gradient, gradient])\n",
    "\n",
    "ax.imshow(image, aspect='auto', cmap=colourmap)\n"
   ]
  },
  {
   "cell_type": "markdown",
   "metadata": {},
   "source": [
    "To colour a scatter plot with a continuous variable, we can just set the `c` parameter to the colour variable, and optionally, select a colormap using the `cmap` parameter. W"
   ]
  },
  {
   "cell_type": "code",
   "execution_count": 45,
   "metadata": {
    "ExecuteTime": {
     "end_time": "2018-01-13T23:41:24.599371Z",
     "start_time": "2018-01-13T23:41:24.382106Z"
    }
   },
   "outputs": [
    {
     "data": {
      "text/plain": [
       "<matplotlib.text.Text at 0x113b093c8>"
      ]
     },
     "execution_count": 45,
     "metadata": {},
     "output_type": "execute_result"
    },
    {
     "data": {
      "image/png": "[encoded data removed]",
      "text/plain": [
       "<matplotlib.figure.Figure at 0x109c34160>"
      ]
     },
     "metadata": {},
     "output_type": "display_data"
    }
   ],
   "source": [
    "fig, ax = plt.subplots()\n",
    "\n",
    "ax.scatter(x=trains['weight_tons'], y=trains['top_speed_mph'], \n",
    "           c=trains['wheels'],\n",
    "           cmap='Reds')\n",
    "ax.set_xlabel('Weight')\n",
    "ax.set_ylabel('Top speed')\n"
   ]
  },
  {
   "cell_type": "markdown",
   "metadata": {},
   "source": [
    "We can also add a colour bar to show the variable mapping."
   ]
  },
  {
   "cell_type": "code",
   "execution_count": 46,
   "metadata": {
    "ExecuteTime": {
     "end_time": "2018-01-13T23:41:46.137551Z",
     "start_time": "2018-01-13T23:41:45.837617Z"
    }
   },
   "outputs": [
    {
     "data": {
      "image/png": "[encoded data removed]",
      "text/plain": [
       "<matplotlib.figure.Figure at 0x1149c6828>"
      ]
     },
     "metadata": {},
     "output_type": "display_data"
    }
   ],
   "source": [
    "fig, ax = plt.subplots()\n",
    "\n",
    "points = ax.scatter(x=trains['weight_tons'], y=trains['top_speed_mph'],\n",
    "                    c=trains['wheels'], \n",
    "                    cmap='Reds')\n",
    "ax.set_xlabel('Weight')\n",
    "ax.set_ylabel('Top speed')\n",
    "\n",
    "# Create a colorbar showing the colour mapping for the points\n",
    "cbar = fig.colorbar(points)\n",
    "cbar.set_label('Wheels')"
   ]
  },
  {
   "cell_type": "markdown",
   "metadata": {},
   "source": [
    "If we want to colour points by some discrete category, and get an appropriate legend, we do this by drawing each set of points separately."
   ]
  },
  {
   "cell_type": "code",
   "execution_count": 23,
   "metadata": {
    "ExecuteTime": {
     "end_time": "2018-01-13T23:01:41.700214Z",
     "start_time": "2018-01-13T23:01:41.308434Z"
    }
   },
   "outputs": [
    {
     "data": {
      "text/plain": [
       "<matplotlib.legend.Legend at 0x113abfa20>"
      ]
     },
     "execution_count": 23,
     "metadata": {},
     "output_type": "execute_result"
    },
    {
     "data": {
      "image/png": "[encoded data removed]",
      "text/plain": [
       "<matplotlib.figure.Figure at 0x113fc5a90>"
      ]
     },
     "metadata": {},
     "output_type": "display_data"
    }
   ],
   "source": [
    "engine_groups = trains.groupby('engine_type')\n",
    "\n",
    "fig, ax = plt.subplots()\n",
    "\n",
    "for (label,df) in engine_groups:\n",
    "    ax.scatter(x=df['weight_tons'], y=df['top_speed_mph'], label=label)\n",
    "    ax.set_xlabel('Weight')\n",
    "    ax.set_ylabel('Top speed')\n",
    "\n",
    "ax.legend()"
   ]
  },
  {
   "cell_type": "code",
   "execution_count": null,
   "metadata": {
    "collapsed": true
   },
   "outputs": [],
   "source": [
    "# If you're not familiar with what groupby does, have a look at the resulting groups here\n",
    "list(engine_groups)"
   ]
  },
  {
   "cell_type": "markdown",
   "metadata": {
    "collapsed": true
   },
   "source": [
    "**Exercise:** \n",
    "\n",
    "* Colour your scatter plot of house sale locations (`long` & `lat`) by the `waterfront` variable. \n",
    "* Colour your scatter plot of house sale locations (`long` & `lat`) by `price`."
   ]
  },
  {
   "cell_type": "code",
   "execution_count": null,
   "metadata": {
    "collapsed": true
   },
   "outputs": [],
   "source": []
  }
 ],
 "metadata": {
  "kernelspec": {
   "display_name": "Python 3",
   "language": "python",
   "name": "python3"
  },
  "language_info": {
   "codemirror_mode": {
    "name": "ipython",
    "version": 3
   },
   "file_extension": ".py",
   "mimetype": "text/x-python",
   "name": "python",
   "nbconvert_exporter": "python",
   "pygments_lexer": "ipython3",
   "version": "3.6.3"
  },
  "toc": {
   "colors": {
    "hover_highlight": "#DAA520",
    "running_highlight": "#FF0000",
    "selected_highlight": "#FFD700"
   },
   "moveMenuLeft": true,
   "nav_menu": {
    "height": "138px",
    "width": "252px"
   },
   "navigate_menu": true,
   "number_sections": false,
   "sideBar": true,
   "threshold": 4,
   "toc_cell": false,
   "toc_section_display": "block",
   "toc_window_display": true
  },
  "varInspector": {
   "cols": {
    "lenName": 16,
    "lenType": 16,
    "lenVar": 40
   },
   "kernels_config": {
    "python": {
     "delete_cmd_postfix": "",
     "delete_cmd_prefix": "del ",
     "library": "var_list.py",
     "varRefreshCmd": "print(var_dic_list())"
    },
    "r": {
     "delete_cmd_postfix": ") ",
     "delete_cmd_prefix": "rm(",
     "library": "var_list.r",
     "varRefreshCmd": "cat(var_dic_list()) "
    }
   },
   "types_to_exclude": [
    "module",
    "function",
    "builtin_function_or_method",
    "instance",
    "_Feature"
   ],
   "window_display": false
  }
 },
 "nbformat": 4,
 "nbformat_minor": 2
}
